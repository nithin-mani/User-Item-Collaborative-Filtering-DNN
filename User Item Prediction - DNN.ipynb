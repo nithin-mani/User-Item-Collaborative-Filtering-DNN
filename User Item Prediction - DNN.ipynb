{
 "cells": [
  {
   "cell_type": "code",
   "execution_count": 21,
   "id": "097f7ac8",
   "metadata": {},
   "outputs": [],
   "source": [
    "# Importing libraries\n",
    "\n",
    "import numpy as np\n",
    "import pandas as pd\n",
    "\n",
    "import matplotlib.pyplot as plt\n",
    "import seaborn as sns\n",
    "\n",
    "from sklearn.preprocessing import LabelEncoder\n",
    "from sklearn.model_selection import GroupShuffleSplit\n",
    "from sklearn.metrics import confusion_matrix\n",
    "from sklearn.metrics import classification_report\n",
    "\n",
    "import warnings\n",
    "warnings.filterwarnings(\"ignore\")\n",
    "\n",
    "import tensorflow as tf\n",
    "import keras"
   ]
  },
  {
   "cell_type": "code",
   "execution_count": 2,
   "id": "243a0ef1",
   "metadata": {},
   "outputs": [],
   "source": [
    "# Read data\n",
    "ui_ratings = pd.read_csv('user_item_ratings.csv')"
   ]
  },
  {
   "cell_type": "code",
   "execution_count": 3,
   "id": "e3b40429",
   "metadata": {},
   "outputs": [
    {
     "data": {
      "text/html": [
       "<div>\n",
       "<style scoped>\n",
       "    .dataframe tbody tr th:only-of-type {\n",
       "        vertical-align: middle;\n",
       "    }\n",
       "\n",
       "    .dataframe tbody tr th {\n",
       "        vertical-align: top;\n",
       "    }\n",
       "\n",
       "    .dataframe thead th {\n",
       "        text-align: right;\n",
       "    }\n",
       "</style>\n",
       "<table border=\"1\" class=\"dataframe\">\n",
       "  <thead>\n",
       "    <tr style=\"text-align: right;\">\n",
       "      <th></th>\n",
       "      <th>user</th>\n",
       "      <th>item</th>\n",
       "      <th>x</th>\n",
       "      <th>observed</th>\n",
       "      <th>liked</th>\n",
       "    </tr>\n",
       "  </thead>\n",
       "  <tbody>\n",
       "    <tr>\n",
       "      <th>0</th>\n",
       "      <td>1</td>\n",
       "      <td>1</td>\n",
       "      <td>1.546881</td>\n",
       "      <td>1</td>\n",
       "      <td>1</td>\n",
       "    </tr>\n",
       "    <tr>\n",
       "      <th>1</th>\n",
       "      <td>2</td>\n",
       "      <td>1</td>\n",
       "      <td>0.178921</td>\n",
       "      <td>1</td>\n",
       "      <td>0</td>\n",
       "    </tr>\n",
       "    <tr>\n",
       "      <th>2</th>\n",
       "      <td>3</td>\n",
       "      <td>1</td>\n",
       "      <td>-0.282547</td>\n",
       "      <td>1</td>\n",
       "      <td>1</td>\n",
       "    </tr>\n",
       "    <tr>\n",
       "      <th>3</th>\n",
       "      <td>4</td>\n",
       "      <td>1</td>\n",
       "      <td>-0.767299</td>\n",
       "      <td>0</td>\n",
       "      <td>0</td>\n",
       "    </tr>\n",
       "    <tr>\n",
       "      <th>4</th>\n",
       "      <td>5</td>\n",
       "      <td>1</td>\n",
       "      <td>-0.576404</td>\n",
       "      <td>1</td>\n",
       "      <td>0</td>\n",
       "    </tr>\n",
       "    <tr>\n",
       "      <th>...</th>\n",
       "      <td>...</td>\n",
       "      <td>...</td>\n",
       "      <td>...</td>\n",
       "      <td>...</td>\n",
       "      <td>...</td>\n",
       "    </tr>\n",
       "    <tr>\n",
       "      <th>2795</th>\n",
       "      <td>96</td>\n",
       "      <td>28</td>\n",
       "      <td>-0.616014</td>\n",
       "      <td>1</td>\n",
       "      <td>1</td>\n",
       "    </tr>\n",
       "    <tr>\n",
       "      <th>2796</th>\n",
       "      <td>97</td>\n",
       "      <td>28</td>\n",
       "      <td>0.020728</td>\n",
       "      <td>1</td>\n",
       "      <td>0</td>\n",
       "    </tr>\n",
       "    <tr>\n",
       "      <th>2797</th>\n",
       "      <td>98</td>\n",
       "      <td>28</td>\n",
       "      <td>-0.412832</td>\n",
       "      <td>1</td>\n",
       "      <td>0</td>\n",
       "    </tr>\n",
       "    <tr>\n",
       "      <th>2798</th>\n",
       "      <td>99</td>\n",
       "      <td>28</td>\n",
       "      <td>0.412128</td>\n",
       "      <td>1</td>\n",
       "      <td>0</td>\n",
       "    </tr>\n",
       "    <tr>\n",
       "      <th>2799</th>\n",
       "      <td>100</td>\n",
       "      <td>28</td>\n",
       "      <td>-1.338261</td>\n",
       "      <td>1</td>\n",
       "      <td>1</td>\n",
       "    </tr>\n",
       "  </tbody>\n",
       "</table>\n",
       "<p>2800 rows × 5 columns</p>\n",
       "</div>"
      ],
      "text/plain": [
       "      user  item         x  observed  liked\n",
       "0        1     1  1.546881         1      1\n",
       "1        2     1  0.178921         1      0\n",
       "2        3     1 -0.282547         1      1\n",
       "3        4     1 -0.767299         0      0\n",
       "4        5     1 -0.576404         1      0\n",
       "...    ...   ...       ...       ...    ...\n",
       "2795    96    28 -0.616014         1      1\n",
       "2796    97    28  0.020728         1      0\n",
       "2797    98    28 -0.412832         1      0\n",
       "2798    99    28  0.412128         1      0\n",
       "2799   100    28 -1.338261         1      1\n",
       "\n",
       "[2800 rows x 5 columns]"
      ]
     },
     "execution_count": 3,
     "metadata": {},
     "output_type": "execute_result"
    }
   ],
   "source": [
    "# Take a look at the data\n",
    "ui_ratings"
   ]
  },
  {
   "cell_type": "code",
   "execution_count": 4,
   "id": "642d43ac",
   "metadata": {},
   "outputs": [
    {
     "name": "stdout",
     "output_type": "stream",
     "text": [
      "<class 'pandas.core.frame.DataFrame'>\n",
      "RangeIndex: 2800 entries, 0 to 2799\n",
      "Data columns (total 5 columns):\n",
      " #   Column    Non-Null Count  Dtype  \n",
      "---  ------    --------------  -----  \n",
      " 0   user      2800 non-null   int64  \n",
      " 1   item      2800 non-null   int64  \n",
      " 2   x         2800 non-null   float64\n",
      " 3   observed  2800 non-null   int64  \n",
      " 4   liked     2800 non-null   int64  \n",
      "dtypes: float64(1), int64(4)\n",
      "memory usage: 109.5 KB\n"
     ]
    }
   ],
   "source": [
    "# Get the dataset information\n",
    "ui_ratings.info()"
   ]
  },
  {
   "cell_type": "code",
   "execution_count": 5,
   "id": "9b8b4200",
   "metadata": {},
   "outputs": [
    {
     "name": "stdout",
     "output_type": "stream",
     "text": [
      "The user item ratings dataset has 100 unique users\n",
      "The user item ratings dataset has 28 unique items\n"
     ]
    }
   ],
   "source": [
    "# Number of users\n",
    "print('The user item ratings dataset has', ui_ratings['user'].nunique(), 'unique users')\n",
    "\n",
    "# Number of items\n",
    "print('The user item ratings dataset has', ui_ratings['item'].nunique(), 'unique items')"
   ]
  },
  {
   "cell_type": "code",
   "execution_count": 6,
   "id": "70157bb8",
   "metadata": {},
   "outputs": [
    {
     "data": {
      "text/plain": [
       "Text(0.5, 1.0, 'User Liked Rating(x) Distribution')"
      ]
     },
     "execution_count": 6,
     "metadata": {},
     "output_type": "execute_result"
    },
    {
     "data": {
      "image/png": "[encoded data removed]",
      "text/plain": [
       "<Figure size 700x500 with 1 Axes>"
      ]
     },
     "metadata": {},
     "output_type": "display_data"
    }
   ],
   "source": [
    "# Visualize User Liked Rating Distribution\n",
    "\n",
    "from IPython.core.pylabtools import figsize\n",
    "\n",
    "ui_ratings_liked  = ui_ratings.loc[ui_ratings['liked'] == 1]\n",
    "ui_ratings_nliked = ui_ratings.loc[ui_ratings['liked'] == 0]\n",
    "\n",
    "figsize(7, 5)\n",
    " \n",
    "plt.hist(ui_ratings_liked['x'], color='green', edgecolor='black', bins=int(45/1))\n",
    " \n",
    "plt.xlabel('User rating')\n",
    "plt.ylabel('No. of Users')\n",
    "plt.title('User Liked Rating(x) Distribution')"
   ]
  },
  {
   "cell_type": "code",
   "execution_count": 7,
   "id": "c849aa79",
   "metadata": {},
   "outputs": [
    {
     "data": {
      "text/plain": [
       "Text(0.5, 1.0, 'User Not-Liked Rating(x) Distribution')"
      ]
     },
     "execution_count": 7,
     "metadata": {},
     "output_type": "execute_result"
    },
    {
     "data": {
      "image/png": "[encoded data removed]",
      "text/plain": [
       "<Figure size 700x500 with 1 Axes>"
      ]
     },
     "metadata": {},
     "output_type": "display_data"
    }
   ],
   "source": [
    "figsize(7, 5)\n",
    " \n",
    "plt.hist(ui_ratings_nliked['x'], color='grey', edgecolor='black', bins=int(45/1))\n",
    " \n",
    "plt.xlabel('User rating')\n",
    "plt.ylabel('No. of Users')\n",
    "plt.title('User Not-Liked Rating(x) Distribution')"
   ]
  },
  {
   "cell_type": "code",
   "execution_count": 8,
   "id": "e9e96f12",
   "metadata": {},
   "outputs": [
    {
     "data": {
      "text/plain": [
       "Text(0.5, 1.0, 'Average Liked Rating(x) Distribution')"
      ]
     },
     "execution_count": 8,
     "metadata": {},
     "output_type": "execute_result"
    },
    {
     "data": {
      "image/png": "[encoded data removed]",
      "text/plain": [
       "<Figure size 700x500 with 1 Axes>"
      ]
     },
     "metadata": {},
     "output_type": "display_data"
    }
   ],
   "source": [
    "ui_ratings_liked.groupby('item').mean()['x'].plot.bar(color='green', edgecolor='black')\n",
    "plt.xlabel('Items')\n",
    "plt.ylabel('Average ratings')\n",
    "plt.title('Average Liked Rating(x) Distribution')"
   ]
  },
  {
   "cell_type": "code",
   "execution_count": 9,
   "id": "f966533f",
   "metadata": {},
   "outputs": [
    {
     "data": {
      "text/plain": [
       "Text(0.5, 1.0, 'Average Not-Liked Rating(x) Distribution')"
      ]
     },
     "execution_count": 9,
     "metadata": {},
     "output_type": "execute_result"
    },
    {
     "data": {
      "image/png": "[encoded data removed]",
      "text/plain": [
       "<Figure size 700x500 with 1 Axes>"
      ]
     },
     "metadata": {},
     "output_type": "display_data"
    }
   ],
   "source": [
    "ui_ratings_nliked.groupby('item').mean()['x'].plot.bar(color='grey', edgecolor='black')\n",
    "plt.xlabel('Items')\n",
    "plt.ylabel('Average ratings')\n",
    "plt.title('Average Not-Liked Rating(x) Distribution')"
   ]
  },
  {
   "cell_type": "markdown",
   "id": "b95a0221",
   "metadata": {},
   "source": [
    "### Encoding users and items"
   ]
  },
  {
   "cell_type": "code",
   "execution_count": 10,
   "id": "95aaae30",
   "metadata": {},
   "outputs": [],
   "source": [
    "user_enc = LabelEncoder()\n",
    "ui_ratings['user'] = user_enc.fit_transform(ui_ratings['user'].values)\n",
    "n_users = ui_ratings['user'].nunique()\n",
    "\n",
    "item_enc = LabelEncoder()\n",
    "ui_ratings['item'] = item_enc.fit_transform(ui_ratings['item'].values)\n",
    "n_items = ui_ratings['item'].nunique()"
   ]
  },
  {
   "cell_type": "code",
   "execution_count": 11,
   "id": "012e0cf7",
   "metadata": {},
   "outputs": [
    {
     "data": {
      "text/html": [
       "<div>\n",
       "<style scoped>\n",
       "    .dataframe tbody tr th:only-of-type {\n",
       "        vertical-align: middle;\n",
       "    }\n",
       "\n",
       "    .dataframe tbody tr th {\n",
       "        vertical-align: top;\n",
       "    }\n",
       "\n",
       "    .dataframe thead th {\n",
       "        text-align: right;\n",
       "    }\n",
       "</style>\n",
       "<table border=\"1\" class=\"dataframe\">\n",
       "  <thead>\n",
       "    <tr style=\"text-align: right;\">\n",
       "      <th></th>\n",
       "      <th>user</th>\n",
       "      <th>item</th>\n",
       "      <th>x</th>\n",
       "      <th>observed</th>\n",
       "      <th>liked</th>\n",
       "    </tr>\n",
       "  </thead>\n",
       "  <tbody>\n",
       "    <tr>\n",
       "      <th>0</th>\n",
       "      <td>0</td>\n",
       "      <td>0</td>\n",
       "      <td>1.546881</td>\n",
       "      <td>1</td>\n",
       "      <td>1</td>\n",
       "    </tr>\n",
       "    <tr>\n",
       "      <th>1</th>\n",
       "      <td>1</td>\n",
       "      <td>0</td>\n",
       "      <td>0.178921</td>\n",
       "      <td>1</td>\n",
       "      <td>0</td>\n",
       "    </tr>\n",
       "    <tr>\n",
       "      <th>2</th>\n",
       "      <td>2</td>\n",
       "      <td>0</td>\n",
       "      <td>-0.282547</td>\n",
       "      <td>1</td>\n",
       "      <td>1</td>\n",
       "    </tr>\n",
       "    <tr>\n",
       "      <th>3</th>\n",
       "      <td>3</td>\n",
       "      <td>0</td>\n",
       "      <td>-0.767299</td>\n",
       "      <td>0</td>\n",
       "      <td>0</td>\n",
       "    </tr>\n",
       "    <tr>\n",
       "      <th>4</th>\n",
       "      <td>4</td>\n",
       "      <td>0</td>\n",
       "      <td>-0.576404</td>\n",
       "      <td>1</td>\n",
       "      <td>0</td>\n",
       "    </tr>\n",
       "    <tr>\n",
       "      <th>...</th>\n",
       "      <td>...</td>\n",
       "      <td>...</td>\n",
       "      <td>...</td>\n",
       "      <td>...</td>\n",
       "      <td>...</td>\n",
       "    </tr>\n",
       "    <tr>\n",
       "      <th>2795</th>\n",
       "      <td>95</td>\n",
       "      <td>27</td>\n",
       "      <td>-0.616014</td>\n",
       "      <td>1</td>\n",
       "      <td>1</td>\n",
       "    </tr>\n",
       "    <tr>\n",
       "      <th>2796</th>\n",
       "      <td>96</td>\n",
       "      <td>27</td>\n",
       "      <td>0.020728</td>\n",
       "      <td>1</td>\n",
       "      <td>0</td>\n",
       "    </tr>\n",
       "    <tr>\n",
       "      <th>2797</th>\n",
       "      <td>97</td>\n",
       "      <td>27</td>\n",
       "      <td>-0.412832</td>\n",
       "      <td>1</td>\n",
       "      <td>0</td>\n",
       "    </tr>\n",
       "    <tr>\n",
       "      <th>2798</th>\n",
       "      <td>98</td>\n",
       "      <td>27</td>\n",
       "      <td>0.412128</td>\n",
       "      <td>1</td>\n",
       "      <td>0</td>\n",
       "    </tr>\n",
       "    <tr>\n",
       "      <th>2799</th>\n",
       "      <td>99</td>\n",
       "      <td>27</td>\n",
       "      <td>-1.338261</td>\n",
       "      <td>1</td>\n",
       "      <td>1</td>\n",
       "    </tr>\n",
       "  </tbody>\n",
       "</table>\n",
       "<p>2800 rows × 5 columns</p>\n",
       "</div>"
      ],
      "text/plain": [
       "      user  item         x  observed  liked\n",
       "0        0     0  1.546881         1      1\n",
       "1        1     0  0.178921         1      0\n",
       "2        2     0 -0.282547         1      1\n",
       "3        3     0 -0.767299         0      0\n",
       "4        4     0 -0.576404         1      0\n",
       "...    ...   ...       ...       ...    ...\n",
       "2795    95    27 -0.616014         1      1\n",
       "2796    96    27  0.020728         1      0\n",
       "2797    97    27 -0.412832         1      0\n",
       "2798    98    27  0.412128         1      0\n",
       "2799    99    27 -1.338261         1      1\n",
       "\n",
       "[2800 rows x 5 columns]"
      ]
     },
     "execution_count": 11,
     "metadata": {},
     "output_type": "execute_result"
    }
   ],
   "source": [
    "ui_ratings"
   ]
  },
  {
   "cell_type": "code",
   "execution_count": 12,
   "id": "5d7562c8",
   "metadata": {},
   "outputs": [
    {
     "data": {
      "text/plain": [
       "(100, 28, 0.0, 1.0)"
      ]
     },
     "execution_count": 12,
     "metadata": {},
     "output_type": "execute_result"
    }
   ],
   "source": [
    "ui_ratings['liked'] = ui_ratings['liked'].values.astype(np.float32)\n",
    "min_rating = min(ui_ratings['liked'])\n",
    "max_rating = max(ui_ratings['liked'])\n",
    "n_users, n_items, min_rating, max_rating"
   ]
  },
  {
   "cell_type": "markdown",
   "id": "5d1472ea",
   "metadata": {},
   "source": [
    "### Splitting the data into training and testing using observed variable"
   ]
  },
  {
   "cell_type": "code",
   "execution_count": 13,
   "id": "ae4445db",
   "metadata": {},
   "outputs": [],
   "source": [
    "X = ui_ratings\n",
    "y = X.pop('liked')\n",
    "\n",
    "gs = GroupShuffleSplit(n_splits=2, random_state=42)\n",
    "\n",
    "train_ix, test_ix = next(gs.split(X, y, groups=X.observed))\n",
    "\n",
    "X_test = X.loc[train_ix].values\n",
    "y_test = y.loc[train_ix]\n",
    "\n",
    "X_train = X.loc[test_ix].values\n",
    "y_train = y.loc[test_ix]"
   ]
  },
  {
   "cell_type": "code",
   "execution_count": 14,
   "id": "420f9cb3",
   "metadata": {},
   "outputs": [
    {
     "data": {
      "text/plain": [
       "((2515, 4), (285, 4), (2515,), (285,))"
      ]
     },
     "execution_count": 14,
     "metadata": {},
     "output_type": "execute_result"
    }
   ],
   "source": [
    "X_train.shape, X_test.shape, y_train.shape, y_test.shape"
   ]
  },
  {
   "cell_type": "markdown",
   "id": "55dd9456",
   "metadata": {},
   "source": [
    "### Defining number of factors which are to be considered by the Embedding layer"
   ]
  },
  {
   "cell_type": "code",
   "execution_count": 15,
   "id": "76982c5b",
   "metadata": {},
   "outputs": [],
   "source": [
    "n_factors = 150"
   ]
  },
  {
   "cell_type": "code",
   "execution_count": 16,
   "id": "2161b815",
   "metadata": {},
   "outputs": [],
   "source": [
    "X_train_array = [X_train[:, 0], X_train[:, 1]]\n",
    "X_test_array = [X_test[:, 0], X_test[:, 1]]"
   ]
  },
  {
   "cell_type": "markdown",
   "id": "18bc1a46",
   "metadata": {},
   "source": [
    "### Building a  Deep Neural Network"
   ]
  },
  {
   "cell_type": "code",
   "execution_count": 17,
   "id": "1e0d4d71",
   "metadata": {},
   "outputs": [],
   "source": [
    "## Initializing input layers for users and items\n",
    "user = tf.keras.layers.Input(shape = (1,))\n",
    "u = tf.keras.layers.Embedding(n_users, n_factors, embeddings_initializer = 'he_normal')(user)\n",
    "u = tf.keras.layers.Reshape((n_factors,))(u)\n",
    "\n",
    "item = tf.keras.layers.Input(shape = (1,))\n",
    "i = tf.keras.layers.Embedding(n_items, n_factors, embeddings_initializer = 'he_normal')(item)\n",
    "i = tf.keras.layers.Reshape((n_factors,))(i)\n",
    "\n",
    "## concatenate both user and item input layers\n",
    "x = tf.keras.layers.Concatenate()([u,i])\n",
    "x = tf.keras.layers.Dropout(0.05)(x)\n",
    "\n",
    "## Adding Dense layer\n",
    "x = tf.keras.layers.Dense(32, kernel_initializer='he_normal')(x)\n",
    "x = tf.keras.layers.Activation(activation='relu')(x)\n",
    "x = tf.keras.layers.Dropout(0.05)(x)\n",
    "\n",
    "x = tf.keras.layers.Dense(16, kernel_initializer='he_normal')(x)\n",
    "x = tf.keras.layers.Activation(activation='sigmoid')(x)\n",
    "x = tf.keras.layers.Dropout(0.05)(x)\n",
    "\n",
    "x = tf.keras.layers.Dense(10, kernel_initializer='he_normal')(x)\n",
    "x = tf.keras.layers.Activation(activation='sigmoid')(x)\n",
    "x = tf.keras.layers.Dropout(0.05)(x)\n",
    "\n",
    "## Adding an Output layer with Sigmoid activation funtion\n",
    "x = tf.keras.layers.Dense(1)(x)\n",
    "x = tf.keras.layers.Activation(activation='sigmoid')(x)\n",
    "\n",
    "## Defining the model\n",
    "model = tf.keras.models.Model(inputs=[user,item], outputs=x)\n",
    "model.compile(optimizer='adam', loss=tf.keras.losses.BinaryCrossentropy(from_logits=True), metrics=['accuracy'])"
   ]
  },
  {
   "cell_type": "code",
   "execution_count": 18,
   "id": "cf184f60",
   "metadata": {},
   "outputs": [
    {
     "name": "stdout",
     "output_type": "stream",
     "text": [
      "Model: \"model\"\n",
      "__________________________________________________________________________________________________\n",
      " Layer (type)                   Output Shape         Param #     Connected to                     \n",
      "==================================================================================================\n",
      " input_1 (InputLayer)           [(None, 1)]          0           []                               \n",
      "                                                                                                  \n",
      " input_2 (InputLayer)           [(None, 1)]          0           []                               \n",
      "                                                                                                  \n",
      " embedding (Embedding)          (None, 1, 150)       15000       ['input_1[0][0]']                \n",
      "                                                                                                  \n",
      " embedding_1 (Embedding)        (None, 1, 150)       4200        ['input_2[0][0]']                \n",
      "                                                                                                  \n",
      " reshape (Reshape)              (None, 150)          0           ['embedding[0][0]']              \n",
      "                                                                                                  \n",
      " reshape_1 (Reshape)            (None, 150)          0           ['embedding_1[0][0]']            \n",
      "                                                                                                  \n",
      " concatenate (Concatenate)      (None, 300)          0           ['reshape[0][0]',                \n",
      "                                                                  'reshape_1[0][0]']              \n",
      "                                                                                                  \n",
      " dropout (Dropout)              (None, 300)          0           ['concatenate[0][0]']            \n",
      "                                                                                                  \n",
      " dense (Dense)                  (None, 32)           9632        ['dropout[0][0]']                \n",
      "                                                                                                  \n",
      " activation (Activation)        (None, 32)           0           ['dense[0][0]']                  \n",
      "                                                                                                  \n",
      " dropout_1 (Dropout)            (None, 32)           0           ['activation[0][0]']             \n",
      "                                                                                                  \n",
      " dense_1 (Dense)                (None, 16)           528         ['dropout_1[0][0]']              \n",
      "                                                                                                  \n",
      " activation_1 (Activation)      (None, 16)           0           ['dense_1[0][0]']                \n",
      "                                                                                                  \n",
      " dropout_2 (Dropout)            (None, 16)           0           ['activation_1[0][0]']           \n",
      "                                                                                                  \n",
      " dense_2 (Dense)                (None, 10)           170         ['dropout_2[0][0]']              \n",
      "                                                                                                  \n",
      " activation_2 (Activation)      (None, 10)           0           ['dense_2[0][0]']                \n",
      "                                                                                                  \n",
      " dropout_3 (Dropout)            (None, 10)           0           ['activation_2[0][0]']           \n",
      "                                                                                                  \n",
      " dense_3 (Dense)                (None, 1)            11          ['dropout_3[0][0]']              \n",
      "                                                                                                  \n",
      " activation_3 (Activation)      (None, 1)            0           ['dense_3[0][0]']                \n",
      "                                                                                                  \n",
      "==================================================================================================\n",
      "Total params: 29,541\n",
      "Trainable params: 29,541\n",
      "Non-trainable params: 0\n",
      "__________________________________________________________________________________________________\n"
     ]
    }
   ],
   "source": [
    "model.summary()"
   ]
  },
  {
   "cell_type": "code",
   "execution_count": 19,
   "id": "fb0ffb47",
   "metadata": {},
   "outputs": [
    {
     "name": "stdout",
     "output_type": "stream",
     "text": [
      "Epoch 1/70\n",
      "20/20 [==============================] - 4s 43ms/step - loss: 0.6945 - accuracy: 0.5078 - val_loss: 0.6840 - val_accuracy: 0.5789 - lr: 0.0010\n",
      "Epoch 2/70\n",
      "20/20 [==============================] - 0s 12ms/step - loss: 0.6810 - accuracy: 0.5865 - val_loss: 0.6805 - val_accuracy: 0.5789 - lr: 0.0010\n",
      "Epoch 3/70\n",
      "20/20 [==============================] - 0s 12ms/step - loss: 0.6771 - accuracy: 0.5853 - val_loss: 0.6810 - val_accuracy: 0.5789 - lr: 0.0010\n",
      "Epoch 4/70\n",
      "20/20 [==============================] - 0s 12ms/step - loss: 0.6757 - accuracy: 0.5841 - val_loss: 0.6813 - val_accuracy: 0.5789 - lr: 0.0010\n",
      "Epoch 5/70\n",
      "20/20 [==============================] - ETA: 0s - loss: 0.6736 - accuracy: 0.5857\n",
      "Epoch 5: ReduceLROnPlateau reducing learning rate to 0.0007500000356230885.\n",
      "20/20 [==============================] - 0s 13ms/step - loss: 0.6736 - accuracy: 0.5857 - val_loss: 0.6820 - val_accuracy: 0.5789 - lr: 0.0010\n",
      "Epoch 6/70\n",
      "20/20 [==============================] - 0s 12ms/step - loss: 0.6694 - accuracy: 0.5917 - val_loss: 0.6823 - val_accuracy: 0.5860 - lr: 7.5000e-04\n",
      "Epoch 7/70\n",
      "20/20 [==============================] - 0s 12ms/step - loss: 0.6666 - accuracy: 0.6040 - val_loss: 0.6833 - val_accuracy: 0.6000 - lr: 7.5000e-04\n",
      "Epoch 8/70\n",
      "15/20 [=====================>........] - ETA: 0s - loss: 0.6682 - accuracy: 0.6000\n",
      "Epoch 8: ReduceLROnPlateau reducing learning rate to 0.0005625000048894435.\n",
      "20/20 [==============================] - 0s 12ms/step - loss: 0.6657 - accuracy: 0.6048 - val_loss: 0.6838 - val_accuracy: 0.6070 - lr: 7.5000e-04\n",
      "Epoch 9/70\n",
      "20/20 [==============================] - 0s 12ms/step - loss: 0.6614 - accuracy: 0.6060 - val_loss: 0.6852 - val_accuracy: 0.6070 - lr: 5.6250e-04\n",
      "Epoch 10/70\n",
      "20/20 [==============================] - 0s 13ms/step - loss: 0.6554 - accuracy: 0.6103 - val_loss: 0.6857 - val_accuracy: 0.6105 - lr: 5.6250e-04\n",
      "Epoch 11/70\n",
      "15/20 [=====================>........] - ETA: 0s - loss: 0.6547 - accuracy: 0.6172\n",
      "Epoch 11: ReduceLROnPlateau reducing learning rate to 0.0004218749818392098.\n",
      "20/20 [==============================] - 0s 12ms/step - loss: 0.6531 - accuracy: 0.6199 - val_loss: 0.6863 - val_accuracy: 0.6105 - lr: 5.6250e-04\n",
      "Epoch 12/70\n",
      "20/20 [==============================] - 0s 12ms/step - loss: 0.6509 - accuracy: 0.6175 - val_loss: 0.6864 - val_accuracy: 0.6105 - lr: 4.2187e-04\n",
      "Epoch 13/70\n",
      "20/20 [==============================] - 0s 12ms/step - loss: 0.6482 - accuracy: 0.6243 - val_loss: 0.6862 - val_accuracy: 0.6105 - lr: 4.2187e-04\n",
      "Epoch 14/70\n",
      "14/20 [====================>.........] - ETA: 0s - loss: 0.6477 - accuracy: 0.6323\n",
      "Epoch 14: ReduceLROnPlateau reducing learning rate to 0.00031640623637940735.\n",
      "20/20 [==============================] - 0s 13ms/step - loss: 0.6435 - accuracy: 0.6354 - val_loss: 0.6858 - val_accuracy: 0.6070 - lr: 4.2187e-04\n",
      "Epoch 15/70\n",
      "20/20 [==============================] - 0s 12ms/step - loss: 0.6427 - accuracy: 0.6322 - val_loss: 0.6848 - val_accuracy: 0.6105 - lr: 3.1641e-04\n",
      "Epoch 16/70\n",
      "20/20 [==============================] - 0s 13ms/step - loss: 0.6397 - accuracy: 0.6334 - val_loss: 0.6841 - val_accuracy: 0.6070 - lr: 3.1641e-04\n",
      "Epoch 17/70\n",
      "14/20 [====================>.........] - ETA: 0s - loss: 0.6383 - accuracy: 0.6300\n",
      "Epoch 17: ReduceLROnPlateau reducing learning rate to 0.00023730468819849193.\n",
      "20/20 [==============================] - 0s 13ms/step - loss: 0.6351 - accuracy: 0.6386 - val_loss: 0.6821 - val_accuracy: 0.6070 - lr: 3.1641e-04\n",
      "Epoch 18/70\n",
      "20/20 [==============================] - 0s 12ms/step - loss: 0.6298 - accuracy: 0.6529 - val_loss: 0.6809 - val_accuracy: 0.6105 - lr: 2.3730e-04\n",
      "Epoch 19/70\n",
      "20/20 [==============================] - 0s 12ms/step - loss: 0.6275 - accuracy: 0.6553 - val_loss: 0.6794 - val_accuracy: 0.6175 - lr: 2.3730e-04\n",
      "Epoch 20/70\n",
      "20/20 [==============================] - 0s 12ms/step - loss: 0.6236 - accuracy: 0.6600 - val_loss: 0.6769 - val_accuracy: 0.6175 - lr: 2.3730e-04\n",
      "Epoch 21/70\n",
      "20/20 [==============================] - 0s 12ms/step - loss: 0.6173 - accuracy: 0.6620 - val_loss: 0.6745 - val_accuracy: 0.6211 - lr: 2.3730e-04\n",
      "Epoch 22/70\n",
      "20/20 [==============================] - 0s 13ms/step - loss: 0.6154 - accuracy: 0.6652 - val_loss: 0.6717 - val_accuracy: 0.6246 - lr: 2.3730e-04\n",
      "Epoch 23/70\n",
      "20/20 [==============================] - 0s 13ms/step - loss: 0.6121 - accuracy: 0.6696 - val_loss: 0.6693 - val_accuracy: 0.6246 - lr: 2.3730e-04\n",
      "Epoch 24/70\n",
      "20/20 [==============================] - 0s 13ms/step - loss: 0.6117 - accuracy: 0.6748 - val_loss: 0.6655 - val_accuracy: 0.6281 - lr: 2.3730e-04\n",
      "Epoch 25/70\n",
      "20/20 [==============================] - 0s 13ms/step - loss: 0.6028 - accuracy: 0.6831 - val_loss: 0.6617 - val_accuracy: 0.6386 - lr: 2.3730e-04\n",
      "Epoch 26/70\n",
      "20/20 [==============================] - 0s 13ms/step - loss: 0.5968 - accuracy: 0.6958 - val_loss: 0.6574 - val_accuracy: 0.6386 - lr: 2.3730e-04\n",
      "Epoch 27/70\n",
      "20/20 [==============================] - 0s 12ms/step - loss: 0.5894 - accuracy: 0.7105 - val_loss: 0.6531 - val_accuracy: 0.6421 - lr: 2.3730e-04\n",
      "Epoch 28/70\n",
      "20/20 [==============================] - 0s 13ms/step - loss: 0.5867 - accuracy: 0.7042 - val_loss: 0.6478 - val_accuracy: 0.6421 - lr: 2.3730e-04\n",
      "Epoch 29/70\n",
      "20/20 [==============================] - 0s 13ms/step - loss: 0.5809 - accuracy: 0.7105 - val_loss: 0.6426 - val_accuracy: 0.6491 - lr: 2.3730e-04\n",
      "Epoch 30/70\n",
      "20/20 [==============================] - 0s 12ms/step - loss: 0.5736 - accuracy: 0.7256 - val_loss: 0.6361 - val_accuracy: 0.6702 - lr: 2.3730e-04\n",
      "Epoch 31/70\n",
      "20/20 [==============================] - 0s 13ms/step - loss: 0.5668 - accuracy: 0.7368 - val_loss: 0.6298 - val_accuracy: 0.6912 - lr: 2.3730e-04\n",
      "Epoch 32/70\n",
      "20/20 [==============================] - 0s 12ms/step - loss: 0.5578 - accuracy: 0.7479 - val_loss: 0.6229 - val_accuracy: 0.6947 - lr: 2.3730e-04\n",
      "Epoch 33/70\n",
      "20/20 [==============================] - 0s 13ms/step - loss: 0.5528 - accuracy: 0.7575 - val_loss: 0.6154 - val_accuracy: 0.7018 - lr: 2.3730e-04\n",
      "Epoch 34/70\n",
      "20/20 [==============================] - 0s 14ms/step - loss: 0.5446 - accuracy: 0.7531 - val_loss: 0.6085 - val_accuracy: 0.7123 - lr: 2.3730e-04\n",
      "Epoch 35/70\n",
      "20/20 [==============================] - 0s 14ms/step - loss: 0.5367 - accuracy: 0.7686 - val_loss: 0.6002 - val_accuracy: 0.7263 - lr: 2.3730e-04\n",
      "Epoch 36/70\n",
      "20/20 [==============================] - 0s 14ms/step - loss: 0.5281 - accuracy: 0.7841 - val_loss: 0.5920 - val_accuracy: 0.7263 - lr: 2.3730e-04\n",
      "Epoch 37/70\n",
      "20/20 [==============================] - 0s 13ms/step - loss: 0.5206 - accuracy: 0.7877 - val_loss: 0.5843 - val_accuracy: 0.7404 - lr: 2.3730e-04\n",
      "Epoch 38/70\n",
      "20/20 [==============================] - 0s 12ms/step - loss: 0.5146 - accuracy: 0.7972 - val_loss: 0.5764 - val_accuracy: 0.7439 - lr: 2.3730e-04\n",
      "Epoch 39/70\n",
      "20/20 [==============================] - 0s 12ms/step - loss: 0.5048 - accuracy: 0.8020 - val_loss: 0.5681 - val_accuracy: 0.7614 - lr: 2.3730e-04\n",
      "Epoch 40/70\n",
      "20/20 [==============================] - 0s 13ms/step - loss: 0.4976 - accuracy: 0.8135 - val_loss: 0.5606 - val_accuracy: 0.7754 - lr: 2.3730e-04\n",
      "Epoch 41/70\n",
      "20/20 [==============================] - 0s 13ms/step - loss: 0.4908 - accuracy: 0.8171 - val_loss: 0.5536 - val_accuracy: 0.7754 - lr: 2.3730e-04\n",
      "Epoch 42/70\n",
      "20/20 [==============================] - 0s 13ms/step - loss: 0.4805 - accuracy: 0.8175 - val_loss: 0.5443 - val_accuracy: 0.8035 - lr: 2.3730e-04\n",
      "Epoch 43/70\n",
      "20/20 [==============================] - 0s 12ms/step - loss: 0.4775 - accuracy: 0.8250 - val_loss: 0.5387 - val_accuracy: 0.8070 - lr: 2.3730e-04\n",
      "Epoch 44/70\n",
      "20/20 [==============================] - 0s 13ms/step - loss: 0.4662 - accuracy: 0.8266 - val_loss: 0.5320 - val_accuracy: 0.8070 - lr: 2.3730e-04\n",
      "Epoch 45/70\n",
      "20/20 [==============================] - 0s 13ms/step - loss: 0.4607 - accuracy: 0.8298 - val_loss: 0.5262 - val_accuracy: 0.8105 - lr: 2.3730e-04\n",
      "Epoch 46/70\n",
      "20/20 [==============================] - 0s 12ms/step - loss: 0.4607 - accuracy: 0.8306 - val_loss: 0.5202 - val_accuracy: 0.8175 - lr: 2.3730e-04\n",
      "Epoch 47/70\n",
      "20/20 [==============================] - 0s 11ms/step - loss: 0.4525 - accuracy: 0.8350 - val_loss: 0.5147 - val_accuracy: 0.8175 - lr: 2.3730e-04\n"
     ]
    },
    {
     "name": "stdout",
     "output_type": "stream",
     "text": [
      "Epoch 48/70\n",
      "20/20 [==============================] - 0s 13ms/step - loss: 0.4458 - accuracy: 0.8390 - val_loss: 0.5091 - val_accuracy: 0.8175 - lr: 2.3730e-04\n",
      "Epoch 49/70\n",
      "20/20 [==============================] - 0s 11ms/step - loss: 0.4368 - accuracy: 0.8473 - val_loss: 0.5039 - val_accuracy: 0.8211 - lr: 2.3730e-04\n",
      "Epoch 50/70\n",
      "20/20 [==============================] - 0s 12ms/step - loss: 0.4348 - accuracy: 0.8433 - val_loss: 0.4984 - val_accuracy: 0.8246 - lr: 2.3730e-04\n",
      "Epoch 51/70\n",
      "20/20 [==============================] - 0s 13ms/step - loss: 0.4271 - accuracy: 0.8449 - val_loss: 0.4939 - val_accuracy: 0.8281 - lr: 2.3730e-04\n",
      "Epoch 52/70\n",
      "20/20 [==============================] - 0s 13ms/step - loss: 0.4201 - accuracy: 0.8485 - val_loss: 0.4902 - val_accuracy: 0.8246 - lr: 2.3730e-04\n",
      "Epoch 53/70\n",
      "20/20 [==============================] - 0s 12ms/step - loss: 0.4165 - accuracy: 0.8525 - val_loss: 0.4860 - val_accuracy: 0.8246 - lr: 2.3730e-04\n",
      "Epoch 54/70\n",
      "20/20 [==============================] - 0s 13ms/step - loss: 0.4106 - accuracy: 0.8453 - val_loss: 0.4844 - val_accuracy: 0.8211 - lr: 2.3730e-04\n",
      "Epoch 55/70\n",
      "20/20 [==============================] - 0s 13ms/step - loss: 0.4080 - accuracy: 0.8497 - val_loss: 0.4819 - val_accuracy: 0.8175 - lr: 2.3730e-04\n",
      "Epoch 56/70\n",
      "20/20 [==============================] - 0s 12ms/step - loss: 0.4079 - accuracy: 0.8497 - val_loss: 0.4805 - val_accuracy: 0.8175 - lr: 2.3730e-04\n",
      "Epoch 57/70\n",
      "20/20 [==============================] - 0s 12ms/step - loss: 0.4019 - accuracy: 0.8513 - val_loss: 0.4768 - val_accuracy: 0.8070 - lr: 2.3730e-04\n",
      "Epoch 58/70\n",
      "20/20 [==============================] - 0s 13ms/step - loss: 0.3965 - accuracy: 0.8505 - val_loss: 0.4750 - val_accuracy: 0.8070 - lr: 2.3730e-04\n",
      "Epoch 59/70\n",
      "20/20 [==============================] - 0s 12ms/step - loss: 0.3936 - accuracy: 0.8545 - val_loss: 0.4746 - val_accuracy: 0.8000 - lr: 2.3730e-04\n",
      "Epoch 60/70\n",
      "20/20 [==============================] - 0s 12ms/step - loss: 0.3905 - accuracy: 0.8557 - val_loss: 0.4724 - val_accuracy: 0.8000 - lr: 2.3730e-04\n",
      "Epoch 61/70\n",
      "20/20 [==============================] - 0s 13ms/step - loss: 0.3825 - accuracy: 0.8616 - val_loss: 0.4704 - val_accuracy: 0.8000 - lr: 2.3730e-04\n",
      "Epoch 62/70\n",
      "20/20 [==============================] - 0s 13ms/step - loss: 0.3813 - accuracy: 0.8557 - val_loss: 0.4699 - val_accuracy: 0.8035 - lr: 2.3730e-04\n",
      "Epoch 63/70\n",
      "20/20 [==============================] - 0s 11ms/step - loss: 0.3831 - accuracy: 0.8569 - val_loss: 0.4686 - val_accuracy: 0.8000 - lr: 2.3730e-04\n",
      "Epoch 64/70\n",
      "20/20 [==============================] - 0s 11ms/step - loss: 0.3755 - accuracy: 0.8644 - val_loss: 0.4665 - val_accuracy: 0.8000 - lr: 2.3730e-04\n",
      "Epoch 65/70\n",
      "20/20 [==============================] - 0s 13ms/step - loss: 0.3752 - accuracy: 0.8533 - val_loss: 0.4671 - val_accuracy: 0.8070 - lr: 2.3730e-04\n",
      "Epoch 66/70\n",
      "20/20 [==============================] - 0s 13ms/step - loss: 0.3743 - accuracy: 0.8584 - val_loss: 0.4652 - val_accuracy: 0.8000 - lr: 2.3730e-04\n",
      "Epoch 67/70\n",
      "20/20 [==============================] - 0s 13ms/step - loss: 0.3732 - accuracy: 0.8584 - val_loss: 0.4654 - val_accuracy: 0.8000 - lr: 2.3730e-04\n",
      "Epoch 68/70\n",
      "20/20 [==============================] - 0s 12ms/step - loss: 0.3700 - accuracy: 0.8648 - val_loss: 0.4660 - val_accuracy: 0.8000 - lr: 2.3730e-04\n",
      "Epoch 69/70\n",
      "20/20 [==============================] - 0s 13ms/step - loss: 0.3693 - accuracy: 0.8596 - val_loss: 0.4650 - val_accuracy: 0.8000 - lr: 2.3730e-04\n",
      "Epoch 70/70\n",
      "20/20 [==============================] - 0s 12ms/step - loss: 0.3688 - accuracy: 0.8612 - val_loss: 0.4656 - val_accuracy: 0.7930 - lr: 2.3730e-04\n"
     ]
    }
   ],
   "source": [
    "reduce_lr = tf.keras.callbacks.ReduceLROnPlateau(monitor='val_loss', factor=0.75, patience=3, min_lr=0.000001, verbose=1)\n",
    "\n",
    "model_train = model.fit(x = X_train_array, y = y_train, batch_size = 128, epochs = 70, verbose = 1,\n",
    "                                        validation_data = (X_test_array, y_test), shuffle = True, callbacks = [reduce_lr])"
   ]
  },
  {
   "cell_type": "code",
   "execution_count": 20,
   "id": "b04f1d43",
   "metadata": {},
   "outputs": [
    {
     "data": {
      "image/png": "[encoded data removed]",
      "text/plain": [
       "<Figure size 700x500 with 1 Axes>"
      ]
     },
     "metadata": {},
     "output_type": "display_data"
    }
   ],
   "source": [
    "plt.plot(model_train.history[\"accuracy\"][5:])\n",
    "plt.plot(model_train.history[\"val_accuracy\"][5:])\n",
    "plt.title(\"model accuracy\")\n",
    "plt.ylabel(\"accuracy\")\n",
    "plt.xlabel(\"epoch\")\n",
    "plt.legend([\"train\", \"test\"], loc=\"upper left\")\n",
    "plt.show()"
   ]
  },
  {
   "cell_type": "code",
   "execution_count": 21,
   "id": "5914af9e",
   "metadata": {},
   "outputs": [
    {
     "data": {
      "image/png": "[encoded data removed]",
      "text/plain": [
       "<Figure size 700x500 with 1 Axes>"
      ]
     },
     "metadata": {},
     "output_type": "display_data"
    }
   ],
   "source": [
    "plt.plot(model_train.history[\"loss\"][5:])\n",
    "plt.plot(model_train.history[\"val_loss\"][5:])\n",
    "plt.title(\"model loss\")\n",
    "plt.ylabel(\"loss\")\n",
    "plt.xlabel(\"epoch\")\n",
    "plt.legend([\"train\", \"test\"], loc=\"upper right\")\n",
    "plt.show()"
   ]
  },
  {
   "cell_type": "markdown",
   "id": "d0727494",
   "metadata": {},
   "source": [
    "### Predicting test items for test data"
   ]
  },
  {
   "cell_type": "code",
   "execution_count": 62,
   "id": "e61af049",
   "metadata": {},
   "outputs": [
    {
     "data": {
      "text/plain": [
       "(2, 285)"
      ]
     },
     "execution_count": 62,
     "metadata": {},
     "output_type": "execute_result"
    }
   ],
   "source": [
    "model_input = X_test_array\n",
    "len(model_input), len(model_input[0])"
   ]
  },
  {
   "cell_type": "code",
   "execution_count": 63,
   "id": "9dc8a16f",
   "metadata": {},
   "outputs": [
    {
     "name": "stdout",
     "output_type": "stream",
     "text": [
      "9/9 [==============================] - 0s 5ms/step\n"
     ]
    }
   ],
   "source": [
    "predicted_ratings = pd.DataFrame(model.predict(model_input), columns=['liked_pred'])"
   ]
  },
  {
   "cell_type": "code",
   "execution_count": 64,
   "id": "59ac2ad7",
   "metadata": {},
   "outputs": [
    {
     "data": {
      "text/html": [
       "<div>\n",
       "<style scoped>\n",
       "    .dataframe tbody tr th:only-of-type {\n",
       "        vertical-align: middle;\n",
       "    }\n",
       "\n",
       "    .dataframe tbody tr th {\n",
       "        vertical-align: top;\n",
       "    }\n",
       "\n",
       "    .dataframe thead th {\n",
       "        text-align: right;\n",
       "    }\n",
       "</style>\n",
       "<table border=\"1\" class=\"dataframe\">\n",
       "  <thead>\n",
       "    <tr style=\"text-align: right;\">\n",
       "      <th></th>\n",
       "      <th>liked_pred</th>\n",
       "    </tr>\n",
       "  </thead>\n",
       "  <tbody>\n",
       "    <tr>\n",
       "      <th>0</th>\n",
       "      <td>0.141153</td>\n",
       "    </tr>\n",
       "    <tr>\n",
       "      <th>1</th>\n",
       "      <td>0.864049</td>\n",
       "    </tr>\n",
       "    <tr>\n",
       "      <th>2</th>\n",
       "      <td>0.377805</td>\n",
       "    </tr>\n",
       "    <tr>\n",
       "      <th>3</th>\n",
       "      <td>0.093537</td>\n",
       "    </tr>\n",
       "    <tr>\n",
       "      <th>4</th>\n",
       "      <td>0.076579</td>\n",
       "    </tr>\n",
       "    <tr>\n",
       "      <th>...</th>\n",
       "      <td>...</td>\n",
       "    </tr>\n",
       "    <tr>\n",
       "      <th>280</th>\n",
       "      <td>0.127880</td>\n",
       "    </tr>\n",
       "    <tr>\n",
       "      <th>281</th>\n",
       "      <td>0.084410</td>\n",
       "    </tr>\n",
       "    <tr>\n",
       "      <th>282</th>\n",
       "      <td>0.182695</td>\n",
       "    </tr>\n",
       "    <tr>\n",
       "      <th>283</th>\n",
       "      <td>0.183300</td>\n",
       "    </tr>\n",
       "    <tr>\n",
       "      <th>284</th>\n",
       "      <td>0.848114</td>\n",
       "    </tr>\n",
       "  </tbody>\n",
       "</table>\n",
       "<p>285 rows × 1 columns</p>\n",
       "</div>"
      ],
      "text/plain": [
       "     liked_pred\n",
       "0      0.141153\n",
       "1      0.864049\n",
       "2      0.377805\n",
       "3      0.093537\n",
       "4      0.076579\n",
       "..          ...\n",
       "280    0.127880\n",
       "281    0.084410\n",
       "282    0.182695\n",
       "283    0.183300\n",
       "284    0.848114\n",
       "\n",
       "[285 rows x 1 columns]"
      ]
     },
     "execution_count": 64,
     "metadata": {},
     "output_type": "execute_result"
    }
   ],
   "source": [
    "predicted_ratings"
   ]
  },
  {
   "cell_type": "code",
   "execution_count": 65,
   "id": "81b56fb9",
   "metadata": {},
   "outputs": [
    {
     "data": {
      "text/html": [
       "<div>\n",
       "<style scoped>\n",
       "    .dataframe tbody tr th:only-of-type {\n",
       "        vertical-align: middle;\n",
       "    }\n",
       "\n",
       "    .dataframe tbody tr th {\n",
       "        vertical-align: top;\n",
       "    }\n",
       "\n",
       "    .dataframe thead th {\n",
       "        text-align: right;\n",
       "    }\n",
       "</style>\n",
       "<table border=\"1\" class=\"dataframe\">\n",
       "  <thead>\n",
       "    <tr style=\"text-align: right;\">\n",
       "      <th></th>\n",
       "      <th>user</th>\n",
       "      <th>item</th>\n",
       "      <th>liked_actual</th>\n",
       "      <th>liked_pred</th>\n",
       "      <th>liked_pred_prob</th>\n",
       "    </tr>\n",
       "  </thead>\n",
       "  <tbody>\n",
       "    <tr>\n",
       "      <th>0</th>\n",
       "      <td>4</td>\n",
       "      <td>1</td>\n",
       "      <td>0</td>\n",
       "      <td>0</td>\n",
       "      <td>0.14</td>\n",
       "    </tr>\n",
       "    <tr>\n",
       "      <th>1</th>\n",
       "      <td>7</td>\n",
       "      <td>1</td>\n",
       "      <td>1</td>\n",
       "      <td>1</td>\n",
       "      <td>0.86</td>\n",
       "    </tr>\n",
       "    <tr>\n",
       "      <th>2</th>\n",
       "      <td>18</td>\n",
       "      <td>1</td>\n",
       "      <td>1</td>\n",
       "      <td>0</td>\n",
       "      <td>0.38</td>\n",
       "    </tr>\n",
       "    <tr>\n",
       "      <th>3</th>\n",
       "      <td>21</td>\n",
       "      <td>1</td>\n",
       "      <td>0</td>\n",
       "      <td>0</td>\n",
       "      <td>0.09</td>\n",
       "    </tr>\n",
       "    <tr>\n",
       "      <th>4</th>\n",
       "      <td>61</td>\n",
       "      <td>1</td>\n",
       "      <td>0</td>\n",
       "      <td>0</td>\n",
       "      <td>0.08</td>\n",
       "    </tr>\n",
       "    <tr>\n",
       "      <th>...</th>\n",
       "      <td>...</td>\n",
       "      <td>...</td>\n",
       "      <td>...</td>\n",
       "      <td>...</td>\n",
       "      <td>...</td>\n",
       "    </tr>\n",
       "    <tr>\n",
       "      <th>280</th>\n",
       "      <td>18</td>\n",
       "      <td>28</td>\n",
       "      <td>0</td>\n",
       "      <td>0</td>\n",
       "      <td>0.13</td>\n",
       "    </tr>\n",
       "    <tr>\n",
       "      <th>281</th>\n",
       "      <td>26</td>\n",
       "      <td>28</td>\n",
       "      <td>0</td>\n",
       "      <td>0</td>\n",
       "      <td>0.08</td>\n",
       "    </tr>\n",
       "    <tr>\n",
       "      <th>282</th>\n",
       "      <td>29</td>\n",
       "      <td>28</td>\n",
       "      <td>0</td>\n",
       "      <td>0</td>\n",
       "      <td>0.18</td>\n",
       "    </tr>\n",
       "    <tr>\n",
       "      <th>283</th>\n",
       "      <td>77</td>\n",
       "      <td>28</td>\n",
       "      <td>0</td>\n",
       "      <td>0</td>\n",
       "      <td>0.18</td>\n",
       "    </tr>\n",
       "    <tr>\n",
       "      <th>284</th>\n",
       "      <td>92</td>\n",
       "      <td>28</td>\n",
       "      <td>1</td>\n",
       "      <td>1</td>\n",
       "      <td>0.85</td>\n",
       "    </tr>\n",
       "  </tbody>\n",
       "</table>\n",
       "<p>285 rows × 5 columns</p>\n",
       "</div>"
      ],
      "text/plain": [
       "     user  item  liked_actual  liked_pred  liked_pred_prob\n",
       "0       4     1             0           0             0.14\n",
       "1       7     1             1           1             0.86\n",
       "2      18     1             1           0             0.38\n",
       "3      21     1             0           0             0.09\n",
       "4      61     1             0           0             0.08\n",
       "..    ...   ...           ...         ...              ...\n",
       "280    18    28             0           0             0.13\n",
       "281    26    28             0           0             0.08\n",
       "282    29    28             0           0             0.18\n",
       "283    77    28             0           0             0.18\n",
       "284    92    28             1           1             0.85\n",
       "\n",
       "[285 rows x 5 columns]"
      ]
     },
     "execution_count": 65,
     "metadata": {},
     "output_type": "execute_result"
    }
   ],
   "source": [
    "user_item = pd.DataFrame({'user': model_input[0]+1, 'item': model_input[1]+1, 'liked_actual': y_test.tolist()})\n",
    "ui_test_pred = pd.concat([user_item, predicted_ratings], axis=1).applymap(lambda x: int(x + 0.5))\n",
    "\n",
    "ui_test_pred = pd.concat([ui_test_pred, round(predicted_ratings,2)], axis=1)\n",
    "ui_test_pred.columns.values[4] = 'liked_pred_prob'\n",
    "ui_test_pred"
   ]
  },
  {
   "cell_type": "code",
   "execution_count": 61,
   "id": "970e1ffb",
   "metadata": {},
   "outputs": [],
   "source": [
    "ui_test_pred.to_csv(\"user_item_test_pred.csv\")"
   ]
  },
  {
   "cell_type": "markdown",
   "id": "6ee42049",
   "metadata": {},
   "source": [
    "### Ploting confusion matrix"
   ]
  },
  {
   "cell_type": "code",
   "execution_count": 25,
   "id": "40e74983",
   "metadata": {},
   "outputs": [
    {
     "data": {
      "image/png": "[encoded data removed]",
      "text/plain": [
       "<Figure size 400x400 with 1 Axes>"
      ]
     },
     "metadata": {},
     "output_type": "display_data"
    }
   ],
   "source": [
    "# Ploting confusion matrix with 'seaborn' module\n",
    "\n",
    "actual = list(ui_test_pred.loc[:,'liked_actual'])\n",
    "predicted = list(ui_test_pred.loc[:,'liked_pred'])\n",
    "test_labels = np.unique(list(ui_test_pred.loc[:,'liked_pred']))\n",
    "\n",
    "mat = confusion_matrix(actual, predicted)\n",
    "plt.figure(figsize=(4, 4))\n",
    "sns.set()\n",
    "sns.heatmap(mat.T, square=True, annot=True, fmt='d', cbar=False,\n",
    "            xticklabels=test_labels,\n",
    "            yticklabels=test_labels)\n",
    "plt.xlabel('true label')\n",
    "plt.ylabel('predicted label')\n",
    "\n",
    "plt.show()"
   ]
  },
  {
   "cell_type": "markdown",
   "id": "265ceaad",
   "metadata": {},
   "source": [
    "### Printing classification report"
   ]
  },
  {
   "cell_type": "code",
   "execution_count": 26,
   "id": "39547b7c",
   "metadata": {},
   "outputs": [
    {
     "name": "stdout",
     "output_type": "stream",
     "text": [
      "              precision    recall  f1-score   support\n",
      "\n",
      "           0       0.81      0.84      0.82       165\n",
      "           1       0.77      0.73      0.75       120\n",
      "\n",
      "    accuracy                           0.79       285\n",
      "   macro avg       0.79      0.78      0.79       285\n",
      "weighted avg       0.79      0.79      0.79       285\n",
      "\n"
     ]
    }
   ],
   "source": [
    "print(classification_report(actual, predicted))"
   ]
  },
  {
   "cell_type": "code",
   "execution_count": null,
   "id": "4e3f4e2f",
   "metadata": {},
   "outputs": [],
   "source": []
  }
 ],
 "metadata": {
  "kernelspec": {
   "display_name": "Python 3 (ipykernel)",
   "language": "python",
   "name": "python3"
  },
  "language_info": {
   "codemirror_mode": {
    "name": "ipython",
    "version": 3
   },
   "file_extension": ".py",
   "mimetype": "text/x-python",
   "name": "python",
   "nbconvert_exporter": "python",
   "pygments_lexer": "ipython3",
   "version": "3.9.13"
  }
 },
 "nbformat": 4,
 "nbformat_minor": 5
}
